{
 "cells": [
  {
   "cell_type": "code",
   "execution_count": null,
   "outputs": [],
   "source": [
    "Hello world"
   ],
   "metadata": {
    "collapsed": false
   }
  },
  {
   "cell_type": "code",
   "execution_count": null,
   "outputs": [],
   "source": [
    "%load_ext autoreload\n",
    "%autoreload 2"
   ],
   "metadata": {
    "collapsed": false
   }
  },
  {
   "cell_type": "code",
   "execution_count": null,
   "metadata": {},
   "outputs": [],
   "source": [
    "import numpy as np\n",
    "\n",
    "def norm_inputs(input_):\n",
    "    #(X - X.min(axis=0)) / (X.max(axis=0) - X.min(axis=0))\n",
    "    input_[:,0] = (input_[:,0] - 0.1) / (0.6 - 0.1)\n",
    "    input_[:,1] = (input_[:,1] - 0.05) / (0.5 - 0.05)\n",
    "    input_[:,2] = (input_[:,2] - 0) / (0.12 - 0)\n",
    "    input_[:,3] = (input_[:,3] - 0.159) / (0.190 - 0.159)\n",
    "    input_[:,4] = (input_[:,4] - 0.27) / (0.286 - 0.270)\n",
    "    input_[:,5] = (input_[:,5] - 0.05) / (0.6 - 0.05)\n",
    "    input_[:,6] = (input_[:,6] - 0.01) / (0.6 - 0.01)\n",
    "\n",
    "    return input_\n",
    "\n",
    "def unnorm_inputs(input_):\n",
    "    #(X - X.min(axis=0)) / (X.max(axis=0) - X.min(axis=0))\n",
    "    input_[:,0] = input_[:,0]*(0.6 - 0.1) + 0.1\n",
    "    input_[:,1] = input_[:,1]*(0.5 - 0.05) + 0.05\n",
    "    input_[:,2] = input_[:,2]*(0.12 - 0) + 0\n",
    "    input_[:,3] = input_[:,3]*(0.190 - 0.159) + 0.159\n",
    "    input_[:,4] = input_[:,4]*(0.286 - 0.270) + 0.27\n",
    "    input_[:,5] = input_[:,5]*(0.6 - 0.05) + 0.05\n",
    "    input_[:,6] = input_[:,6]*(0.6 - 0.01) + 0.01\n",
    "\n",
    "    return input_\n",
    "\n",
    "def adjust_rc(rc_in):\n",
    "    from scipy.io import loadmat\n",
    "    my_mat = loadmat('my_ai.mat')\n",
    "    if rc_in < np.squeeze(my_mat['my_ai'][-1]):\n",
    "        return 0\n",
    "    else:\n",
    "        res = next(x for x, val in enumerate(my_mat['my_ai']) if val <= rc_in)\n",
    "        return np.squeeze(my_mat['my_ai'][res])\n",
    "\n",
    "# num_samp = 10\n",
    "#\n",
    "# # iter 1\n",
    "# mdil = np.linspace(0.11, 0.6, num_samp)\n",
    "# p12 = np.linspace(0.08, 0.5, num_samp)\n",
    "# rc = np.linspace(0, 0.12, num_samp)\n",
    "# # print(rc)\n",
    "# for i in range(0, num_samp):\n",
    "#     rc[i] = adjust_rc(rc[i])\n",
    "# # print(rc)\n",
    "# t1bar = np.linspace(0.159, 0.185, num_samp)\n",
    "# yproto = np.linspace(0.272, 0.284, num_samp)\n",
    "# z1 = np.linspace(0.05, 0.6, num_samp)\n",
    "# zdil = np.linspace(0.06, 0.45, num_samp)\n",
    "\n",
    "## iter 2\n",
    "# mdil = np.linspace(0.14, 0.6, num_samp)\n",
    "# p12 = np.linspace(0.08, 0.5, num_samp)\n",
    "# rc = np.linspace(0, 0.1125, num_samp)\n",
    "# # print(rc)\n",
    "# for i in range(0, num_samp):\n",
    "#     rc[i] = adjust_rc(rc[i])\n",
    "# # print(rc)\n",
    "# t1bar = np.linspace(0.1635, 0.185, num_samp)\n",
    "# yproto = np.linspace(0.272, 0.284, num_samp)\n",
    "# z1 = np.linspace(0.05, 0.394, num_samp)\n",
    "# zdil = np.linspace(0.06, 0.304, num_samp)\n",
    "\n",
    "## iter 2.2\n",
    "# mdil = np.linspace(0.14, 0.6, num_samp)\n",
    "# p12 = np.linspace(0.08, 0.5, num_samp)\n",
    "# rc = np.linspace(0, 0.1125, num_samp)\n",
    "# # print(rc)\n",
    "# for i in range(0, num_samp):\n",
    "#     rc[i] = adjust_rc(rc[i])\n",
    "# # print(rc)\n",
    "# t1bar = np.linspace(0.1635, 0.185, num_samp)\n",
    "# yproto = np.linspace(0.272, 0.284, num_samp)\n",
    "# z1 = np.linspace(0.05, 0.4, num_samp)\n",
    "# zdil = np.linspace(0.06, 0.28, num_samp)\n",
    "\n",
    "## iter 3.2\n",
    "# mdil = np.linspace(0.14, 0.6, num_samp)\n",
    "# p12 = np.linspace(0.08, 0.5, num_samp)\n",
    "# rc = np.linspace(0, 0.1125, num_samp)\n",
    "# # print(rc)\n",
    "# for i in range(0, num_samp):\n",
    "#     rc[i] = adjust_rc(rc[i])\n",
    "# # print(rc)\n",
    "# t1bar = np.linspace(0.1635, 0.185, num_samp)\n",
    "# yproto = np.linspace(0.272, 0.284, num_samp)\n",
    "# z1 = np.linspace(0.05, 0.38, num_samp)\n",
    "# zdil = np.linspace(0.06, 0.28, num_samp)\n",
    "\n",
    "## iter 3\n",
    "# mdil = np.linspace(0.14, 0.6, num_samp)\n",
    "# p12 = np.linspace(0.08, 0.5, num_samp)\n",
    "# rc = np.linspace(0, 0.1125, num_samp)\n",
    "# # print(rc)\n",
    "# for i in range(0, num_samp):\n",
    "#     rc[i] = adjust_rc(rc[i])\n",
    "# # print(rc)\n",
    "# t1bar = np.linspace(0.1635, 0.185, num_samp)\n",
    "# yproto = np.linspace(0.272, 0.284, num_samp)\n",
    "# z1 = np.linspace(0.05, 0.3725, num_samp)\n",
    "# zdil = np.linspace(0.06, 0.29, num_samp)"
   ]
  },
  {
   "cell_type": "code",
   "execution_count": null,
   "outputs": [],
   "source": [
    "x,y,z,xx,yy,zz,xxx = np.meshgrid(mdil, p12, rc, t1bar, yproto, z1, zdil, indexing='xy')\n",
    "del mdil, p12, rc, t1bar, yproto, z1, zdil\n",
    "x = np.squeeze(x.reshape(-1))\n",
    "y = np.squeeze(y.reshape(-1))\n",
    "z = np.squeeze(z.reshape(-1))\n",
    "xx = np.squeeze(xx.reshape(-1))\n",
    "yy = np.squeeze(yy.reshape(-1))\n",
    "zz = np.squeeze(zz.reshape(-1))\n",
    "xxx = np.squeeze(xxx.reshape(-1))\n",
    "\n",
    "inputs_grid = [x,y,z,xx,yy,zz,xxx]\n",
    "del x, y, z, xx, yy, zz, xxx\n",
    "inputs_grid = np.transpose(inputs_grid)\n",
    "\n",
    "print(np.shape(inputs_grid))"
   ],
   "metadata": {
    "collapsed": false
   }
  },
  {
   "cell_type": "code",
   "execution_count": null,
   "metadata": {},
   "outputs": [],
   "source": [
    "import torch\n",
    "from models import SharedNN,FNN,FNN2\n",
    "from tqdm import tqdm\n",
    "\n",
    "Js_dur20 = [14696.5735, 586.6085, 34.2007, 2.422, 1.8982532]\n",
    "Js_diffs = [2,1,0,0,0.0005]\n",
    "# max_errors = [8,0.6,0.1,0.011,0.015]\n",
    "max_errors = [8,0.6,0.1,0.011,0.003]\n",
    "net = SharedNN(7)\n",
    "net.load_state_dict(torch.load('test7/trained_model.pt',map_location=torch.device('cpu')))\n",
    "net.eval()\n",
    "net_mass = FNN2(7,1)\n",
    "net_mass.load_state_dict(torch.load('mass_only_test1/trained_model.pt',map_location=torch.device('cpu')))\n",
    "net_mass.eval()\n",
    "num_models_mils = (np.floor(np.size(inputs_grid,0) / 1e6)).astype(int)\n",
    "\n",
    "# for epoch in range(0, num_models_mils+1):\n",
    "for epoch in tqdm(range(num_models_mils+1), desc='Epochs'):\n",
    "    if epoch < num_models_mils:\n",
    "        inputs_grid_ = norm_inputs(inputs_grid[1000000 * epoch:1000000 * (epoch+1),:])\n",
    "        inputs_grid_ = torch.tensor(inputs_grid_, dtype=torch.float32)\n",
    "\n",
    "        with torch.no_grad():\n",
    "            predictions = net(inputs_grid_)\n",
    "            predictions[:,4] = torch.reshape(net_mass(inputs_grid_),(-1,))\n",
    "\n",
    "    elif np.size(norm_inputs(inputs_grid[1000000 * epoch:,:]),0) >= 0:\n",
    "        inputs_grid_ = norm_inputs(inputs_grid[1000000 * epoch:,:])\n",
    "        inputs_grid_ = torch.tensor(inputs_grid_, dtype=torch.float32)\n",
    "\n",
    "        with torch.no_grad():\n",
    "            predictions = net(inputs_grid_)\n",
    "            predictions[:,4] = torch.reshape(net_mass(inputs_grid_),(-1,))\n",
    "\n",
    "\n",
    "    tmp_pred = predictions[np.where((abs(predictions[:,0]-Js_dur20[0]) <= max_errors[0]+Js_diffs[0]) & \\\n",
    "                                    (abs(predictions[:,1]-Js_dur20[1]) <= max_errors[1]+Js_diffs[1]) & \\\n",
    "                                    (abs(predictions[:,4]-Js_dur20[4]) <= max_errors[4]+Js_diffs[4]))]\n",
    "    tmp_inputs = inputs_grid_[np.where((abs(predictions[:,0]-Js_dur20[0]) <= max_errors[0]+Js_diffs[0]) & \\\n",
    "                                    (abs(predictions[:,1]-Js_dur20[1]) <= max_errors[1]+Js_diffs[1]) & \\\n",
    "                                    (abs(predictions[:,4]-Js_dur20[4]) <= max_errors[4]+Js_diffs[4]))]\n",
    "\n",
    "    if epoch == 0:\n",
    "        pred = tmp_pred\n",
    "        inputs_out = unnorm_inputs(tmp_inputs)\n",
    "    else:\n",
    "        pred = torch.cat((pred, tmp_pred), dim=0)\n",
    "        inputs_out = torch.cat((inputs_out, unnorm_inputs(tmp_inputs)), dim=0)\n",
    "\n",
    "    # if ((epoch+1) % 10 == 0) or (epoch == 0):\n",
    "    #     s = 'Finished iteration ' + repr(epoch+1)\n",
    "    #     print(s)\n",
    "    # if (epoch + 1) % 10 == 0 or (epoch == 0):\n",
    "    #     tqdm.write(f' Epoch [{epoch + 1}/{num_models_mils+1}], # models: {np.size(pred,0):}')\n"
   ]
  },
  {
   "cell_type": "code",
   "execution_count": null,
   "outputs": [],
   "source": [
    "np.shape(pred)"
   ],
   "metadata": {
    "collapsed": false
   }
  },
  {
   "cell_type": "code",
   "execution_count": null,
   "outputs": [],
   "source": [
    "net_mass = FNN2(7,1)\n",
    "net_mass.load_state_dict(torch.load('mass_only_test1/trained_model.pt',map_location=torch.device('cpu')))\n",
    "net_mass.eval()"
   ],
   "metadata": {
    "collapsed": false
   }
  },
  {
   "cell_type": "code",
   "execution_count": null,
   "outputs": [],
   "source": [
    "inputs_out = norm_inputs(inputs_out)\n",
    "pred2 = torch.reshape(net_mass(inputs_out),(-1,))"
   ],
   "metadata": {
    "collapsed": false
   }
  },
  {
   "cell_type": "code",
   "execution_count": null,
   "outputs": [],
   "source": [
    "tmp_pred = pred2[np.where((abs(pred2-Js_dur20[4]) <= 0.003+Js_diffs[4]))]"
   ],
   "metadata": {
    "collapsed": false
   }
  },
  {
   "cell_type": "code",
   "execution_count": null,
   "outputs": [],
   "source": [
    "np.shape(tmp_pred)"
   ],
   "metadata": {
    "collapsed": false
   }
  },
  {
   "cell_type": "code",
   "execution_count": null,
   "metadata": {},
   "outputs": [],
   "source": [
    "import pandas as pd\n",
    "\n",
    "pred_ = pred.numpy()\n",
    "df_ = pd.DataFrame(pred_)\n",
    "df_.to_csv('pred_3Zsol.csv',index=False)\n",
    "\n",
    "df_2 = pd.DataFrame(inputs_out)\n",
    "df_2.to_csv('inputs_3Zsol.csv',index=False)\n"
   ]
  },
  {
   "cell_type": "code",
   "execution_count": null,
   "outputs": [],
   "source": [
    "import itertools\n",
    "import numpy as np\n",
    "import torch\n",
    "from tqdm import tqdm\n",
    "from models import SharedNN,FNN2\n",
    "\n",
    "def generate_grid_data(grids, batch_size):\n",
    "    for grid_point in itertools.product(*grids):\n",
    "        yield grid_point\n",
    "\n",
    "def batch_generator(generator, batch_size):\n",
    "    batch = []\n",
    "    for item in generator:\n",
    "        batch.append(item)\n",
    "        if len(batch) == batch_size:\n",
    "            yield batch\n",
    "            batch = []\n",
    "    if batch:\n",
    "        yield batch\n",
    "\n",
    "num_samp = 25\n",
    "\n",
    "# mdil = np.linspace(0.11, 0.6, num_samp)\n",
    "# p12 = np.linspace(0.08, 0.5, num_samp)\n",
    "# rc = np.linspace(0, 0.12, num_samp)\n",
    "# # print(rc)\n",
    "# for i in range(0, num_samp):\n",
    "#     rc[i] = adjust_rc(rc[i])\n",
    "# # print(rc)\n",
    "# t1bar = np.linspace(0.159, 0.187, num_samp)\n",
    "# yproto = np.linspace(0.272, 0.284, num_samp)\n",
    "# z1 = np.linspace(0.05, 0.6, num_samp)\n",
    "# zdil = np.linspace(0.06, 0.45, num_samp)\n",
    "\n",
    "# mdil = np.linspace(0.14, 0.6, num_samp)\n",
    "# p12 = np.linspace(0.08, 0.5, num_samp)\n",
    "# rc = np.linspace(0, 0.1125, num_samp)\n",
    "# # print(rc)\n",
    "# for i in range(0, num_samp):\n",
    "#     rc[i] = adjust_rc(rc[i])\n",
    "# # print(rc)\n",
    "# t1bar = np.linspace(0.1635, 0.185, num_samp)\n",
    "# yproto = np.linspace(0.272, 0.284, num_samp)\n",
    "# z1 = np.linspace(0.05, 0.4, num_samp)\n",
    "# zdil = np.linspace(0.06, 0.28, num_samp)\n",
    "\n",
    "# mdil = np.linspace(0.16, 0.6, num_samp)\n",
    "# p12 = np.linspace(0.08, 0.5, num_samp)\n",
    "# rc = np.linspace(0, 0.11, num_samp)\n",
    "# # print(rc)\n",
    "# for i in range(0, num_samp):\n",
    "#     rc[i] = adjust_rc(rc[i])\n",
    "# # print(rc)\n",
    "# t1bar = np.linspace(0.163, 0.187, num_samp)\n",
    "# yproto = np.linspace(0.272, 0.284, num_samp)\n",
    "# z1 = np.linspace(0.05, 0.4, num_samp)\n",
    "# zdil = np.linspace(0.065, 0.24, num_samp)\n",
    "\n",
    "## 3Z_solar test\n",
    "mdil = np.linspace(0.11, 0.6, num_samp)\n",
    "p12 = np.linspace(0.08, 0.5, num_samp)\n",
    "rc = np.linspace(0, 0.12, num_samp)\n",
    "# print(rc)\n",
    "for i in range(0, num_samp):\n",
    "    rc[i] = adjust_rc(rc[i])\n",
    "# print(rc)\n",
    "t1bar = np.linspace(0.166, 0.185, num_samp)\n",
    "yproto = np.linspace(0.272, 0.284, num_samp)\n",
    "z1 = np.array([0.46]) # np.linspace(0.46, 0.46, num_samp)\n",
    "zdil = np.linspace(0.065, 0.45, num_samp)\n",
    "# Example usage:\n",
    "dimension_grids = [mdil,p12,rc,t1bar,yproto,z1,zdil]  # Grids for each dimension\n",
    "\n",
    "batch_size = 1000000  # 1 million grid points per batch\n",
    "\n",
    "grid_data_generator = generate_grid_data(dimension_grids, batch_size)\n",
    "\n",
    "Js_dur20 = [14696.5735, 586.6085, 34.2007, 2.422, 1.8982532]\n",
    "Js_diffs = [2,1,0,0,0.0005]\n",
    "# max_errors = [8,0.6,0.1,0.011,0.015]\n",
    "max_errors = [8,0.6,0.1,0.011,0.003]\n",
    "net = SharedNN(7)\n",
    "net.load_state_dict(torch.load('test7/trained_model.pt',map_location=torch.device('cpu')))\n",
    "net.eval()\n",
    "net_mass = FNN2(7,1)\n",
    "net_mass.load_state_dict(torch.load('mass_only_test1/trained_model.pt',map_location=torch.device('cpu')))\n",
    "net_mass.eval()\n",
    "\n",
    "# Iterate over grid data in batches\n",
    "for batch_idx, batch in enumerate(tqdm(batch_generator(grid_data_generator, batch_size), desc=\"Processing batches\"),start=1):\n",
    "    inputs_grid_ = norm_inputs(np.array(batch))\n",
    "    inputs_grid_ = torch.tensor(inputs_grid_, dtype=torch.float32)\n",
    "\n",
    "    with torch.no_grad():\n",
    "        predictions = net(inputs_grid_)\n",
    "        predictions[:,4] = torch.reshape(net_mass(inputs_grid_),(-1,))\n",
    "\n",
    "    tmp_pred = predictions[np.where((abs(predictions[:,0]-Js_dur20[0]) <= max_errors[0]+Js_diffs[0]) & \\\n",
    "                                    (abs(predictions[:,1]-Js_dur20[1]) <= max_errors[1]+Js_diffs[1]) & \\\n",
    "                                    (abs(predictions[:,4]-Js_dur20[4]) <= max_errors[4]+Js_diffs[4]))]\n",
    "    tmp_inputs = inputs_grid_[np.where((abs(predictions[:,0]-Js_dur20[0]) <= max_errors[0]+Js_diffs[0]) & \\\n",
    "                                    (abs(predictions[:,1]-Js_dur20[1]) <= max_errors[1]+Js_diffs[1]) & \\\n",
    "                                    (abs(predictions[:,4]-Js_dur20[4]) <= max_errors[4]+Js_diffs[4]))]\n",
    "\n",
    "    # tmp_pred = predictions\n",
    "    # tmp_inputs = inputs_grid_\n",
    "\n",
    "    if batch_idx == 1:\n",
    "        pred = tmp_pred\n",
    "        inputs_out = unnorm_inputs(tmp_inputs)\n",
    "    else:\n",
    "        pred = torch.cat((pred, tmp_pred), dim=0)\n",
    "        inputs_out = torch.cat((inputs_out, unnorm_inputs(tmp_inputs)), dim=0)"
   ],
   "metadata": {
    "collapsed": false
   }
  },
  {
   "cell_type": "code",
   "execution_count": null,
   "outputs": [],
   "source": [
    "np.shape(inputs_out)"
   ],
   "metadata": {
    "collapsed": false
   }
  },
  {
   "cell_type": "code",
   "execution_count": null,
   "outputs": [],
   "source": [
    "predictions = net(inputs_grid_)"
   ],
   "metadata": {
    "collapsed": false
   }
  },
  {
   "cell_type": "code",
   "execution_count": null,
   "outputs": [],
   "source": [],
   "metadata": {
    "collapsed": false
   }
  }
 ],
 "metadata": {
  "accelerator": "GPU",
  "colab": {
   "provenance": []
  },
  "kernelspec": {
   "display_name": "Python 3 (ipykernel)",
   "language": "python",
   "name": "python3"
  },
  "language_info": {
   "codemirror_mode": {
    "name": "ipython",
    "version": 3
   },
   "file_extension": ".py",
   "mimetype": "text/x-python",
   "name": "python",
   "nbconvert_exporter": "python",
   "pygments_lexer": "ipython3",
   "version": "3.8.10"
  }
 },
 "nbformat": 4,
 "nbformat_minor": 1
}
